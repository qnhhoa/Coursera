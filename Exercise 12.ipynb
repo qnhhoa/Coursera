{
 "cells": [
  {
   "cell_type": "code",
   "execution_count": 7,
   "id": "1993c4b9",
   "metadata": {},
   "outputs": [],
   "source": [
    "from IPython.display import Markdown\n",
    "\n",
    "greetings = \"Hello\"\n",
    "name = \"World\""
   ]
  },
  {
   "cell_type": "code",
   "execution_count": 8,
   "id": "6ca5bf53",
   "metadata": {},
   "outputs": [
    {
     "data": {
      "text/markdown": [
       "\n",
       "\n",
       "## Hello World!\n",
       "\n",
       "You can mix Markdown with variables thanks to `IPython.display.Markdown()`.\n",
       "\n"
      ],
      "text/plain": [
       "<IPython.core.display.Markdown object>"
      ]
     },
     "execution_count": 8,
     "metadata": {},
     "output_type": "execute_result"
    }
   ],
   "source": [
    "Markdown(f\"\"\"\n",
    "\n",
    "## {greetings} {name}!\n",
    "\n",
    "You can mix Markdown with variables thanks to `IPython.display.Markdown()`.\n",
    "\n",
    "\"\"\")"
   ]
  },
  {
   "cell_type": "code",
   "execution_count": 1,
   "id": "c44f5678",
   "metadata": {},
   "outputs": [
    {
     "data": {
      "text/plain": [
       "35"
      ]
     },
     "execution_count": 1,
     "metadata": {},
     "output_type": "execute_result"
    }
   ],
   "source": [
    "(3+4)*5"
   ]
  },
  {
   "cell_type": "code",
   "execution_count": 3,
   "id": "0005f955",
   "metadata": {},
   "outputs": [
    {
     "ename": "SyntaxError",
     "evalue": "unterminated string literal (detected at line 2) (4266841682.py, line 2)",
     "output_type": "error",
     "traceback": [
      "\u001b[1;36m  Cell \u001b[1;32mIn[3], line 2\u001b[1;36m\u001b[0m\n\u001b[1;33m    print(\"\u001b[0m\n\u001b[1;37m          ^\u001b[0m\n\u001b[1;31mSyntaxError\u001b[0m\u001b[1;31m:\u001b[0m unterminated string literal (detected at line 2)\n"
     ]
    }
   ],
   "source": [
    "#Data science tools\n",
    "print(\"\n",
    "1.RStudio\n",
    "2.Jupyter Notebooks\n",
    "3.Anaconda\n",
    "    \"\""
   ]
  },
  {
   "cell_type": "code",
   "execution_count": 5,
   "id": "76ce5c73",
   "metadata": {},
   "outputs": [
    {
     "data": {
      "text/plain": [
       "3"
      ]
     },
     "execution_count": 5,
     "metadata": {},
     "output_type": "execute_result"
    }
   ],
   "source": [
    "#convert minutes to hours \n",
    "180//60"
   ]
  },
  {
   "cell_type": "code",
   "execution_count": 6,
   "id": "d986e5ab",
   "metadata": {},
   "outputs": [
    {
     "name": "stdout",
     "output_type": "stream",
     "text": [
      " AUTHOR: PHAN PHAM QUYNH HOA\n"
     ]
    }
   ],
   "source": [
    "print(\" AUTHOR: PHAN PHAM QUYNH HOA\")"
   ]
  },
  {
   "cell_type": "code",
   "execution_count": null,
   "id": "f0bbd9e1",
   "metadata": {},
   "outputs": [],
   "source": []
  }
 ],
 "metadata": {
  "kernelspec": {
   "display_name": "Python 3 (ipykernel)",
   "language": "python",
   "name": "python3"
  },
  "language_info": {
   "codemirror_mode": {
    "name": "ipython",
    "version": 3
   },
   "file_extension": ".py",
   "mimetype": "text/x-python",
   "name": "python",
   "nbconvert_exporter": "python",
   "pygments_lexer": "ipython3",
   "version": "3.10.9"
  }
 },
 "nbformat": 4,
 "nbformat_minor": 5
}
